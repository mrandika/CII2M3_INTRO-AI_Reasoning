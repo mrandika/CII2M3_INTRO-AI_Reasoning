{
  "nbformat": 4,
  "nbformat_minor": 0,
  "metadata": {
    "colab": {
      "name": "Tupro 2: Reasoning",
      "provenance": [],
      "collapsed_sections": []
    },
    "kernelspec": {
      "name": "python3",
      "display_name": "Python 3"
    },
    "language_info": {
      "name": "python"
    }
  },
  "cells": [
    {
      "cell_type": "code",
      "source": [
        "# Depends on:\n",
        "import pandas as pd\n",
        "import numpy as np\n",
        "import matplotlib.pyplot as plt\n",
        "import itertools\n",
        "\n",
        "# Benchmark\n",
        "import time\n",
        "\n",
        "# ⚠️ WARNING: Disable this if you're running locally (not on Google Colab)\n",
        "from google.colab import files"
      ],
      "metadata": {
        "id": "Ogh7hisfrSdF"
      },
      "execution_count": null,
      "outputs": []
    },
    {
      "cell_type": "markdown",
      "source": [
        "**Download Dataset Function**\n",
        "\n",
        "Returns the value of given dataset"
      ],
      "metadata": {
        "id": "fULRB9sVe2vQ"
      }
    },
    {
      "cell_type": "code",
      "source": [
        "def loadDataset(link: str) -> pd.DataFrame:\n",
        "  return pd.read_excel(link)"
      ],
      "metadata": {
        "id": "XZyVi7ULdouY"
      },
      "execution_count": null,
      "outputs": []
    },
    {
      "cell_type": "code",
      "source": [
        "class FuzzyInput(object):\n",
        "  # Initialisation \n",
        "  def __init__(self):\n",
        "    self.membership = {}\n",
        "\n",
        "  # Membership\n",
        "  def point(self, a: float, b: float, c: float, d: float) -> dict:\n",
        "    return {\n",
        "      'a': a,\n",
        "      'b': b,\n",
        "      'c': c,\n",
        "      'd': d\n",
        "    }\n",
        "  \n",
        "  def createMembership(self, linguistic: str, point: dict):\n",
        "    self.membership[linguistic] = point"
      ],
      "metadata": {
        "id": "47o1BpLTDp4J"
      },
      "execution_count": null,
      "outputs": []
    },
    {
      "cell_type": "code",
      "source": [
        "class FuzzyOutput(object):\n",
        "  # Initialisation \n",
        "  def __init__(self, id, score):\n",
        "    self.id = id\n",
        "    self.score = score"
      ],
      "metadata": {
        "id": "mKSZxurC0zaE"
      },
      "execution_count": null,
      "outputs": []
    },
    {
      "cell_type": "code",
      "source": [
        "class FuzzySystem(object):\n",
        "  def __init__(self):\n",
        "    self.color = color = ['r','g','b']\n",
        "\n",
        "  def plotLinguistic(self, points: dict, color: str, label: str = '', min: int = 0, max: int = 1):\n",
        "    y = [0,1,1,0]\n",
        "    point = list(points.values())\n",
        "\n",
        "    plt.plot((min, point[0]), (0,0), color)\n",
        "    for i in range(len(point) - 1):\n",
        "      plt.plot((point[i], point[i+1]), (y[i], y[i+1]), color)\n",
        "    plt.plot((point[-1], max), (0,0), color, label=label)\n",
        "\n",
        "  def plotMembership(self, membership, min: int = 0, max: int = 1):\n",
        "    i = 0\n",
        "    \n",
        "    for j in membership:\n",
        "      self.plotLinguistic(membership[j], self.color[i], j, min=min, max=max)\n",
        "      i += 1\n",
        "    \n",
        "    plt.legend(loc=3)\n",
        "    plt.show()\n",
        "  \n",
        "  def plotFairness(self, fairness):\n",
        "    i = 0\n",
        "\n",
        "    for k, v in fairness.items():\n",
        "      plt.axvline(v, 0, 1, color=self.color[i], label=k)\n",
        "      i += 1\n",
        "    \n",
        "    plt.legend()\n",
        "    plt.show()\n",
        "\n",
        "  def calculateLinguistic(self, x: int, point: dict) -> float:\n",
        "    if x <= point['a'] or x >= point['d']:\n",
        "      return 0\n",
        "    elif point['a'] < x < point['b']:\n",
        "      return (x - point['a']) / (point['b'] - point['a'])\n",
        "    elif point['b'] <= x <= point['c']:\n",
        "      return 1\n",
        "    elif point['c'] < x <= point['d']:\n",
        "      return -(x - point['d']) / (point['d'] - point['c'])\n",
        "\n",
        "  def calculateMembership(self, x: int, membership: dict) -> list:\n",
        "    return {i: self.calculateLinguistic(x, membership[i]) for i in membership.keys()}\n",
        "\n",
        "  def fuzzification(self, x: list, input: list) -> list:\n",
        "    return [self.calculateMembership(x[i], input[i]) for i in range(len(input))]\n",
        "\n",
        "  def inference(self, fuzzificated: list, rule: dict) -> dict:\n",
        "    def conjuction(a, b):\n",
        "      return min(a, b)\n",
        "\n",
        "    def disjunction(a, b):\n",
        "      return max(a, b)\n",
        "\n",
        "    result = {}\n",
        "\n",
        "    for k1, v1 in fuzzificated[0].items():\n",
        "      for k2, v2 in fuzzificated[1].items():\n",
        "        r = (k1, k2)\n",
        "        minVal = conjuction(v1, v2)\n",
        "        currVal = result.get(rule[r], 0)\n",
        "        \n",
        "        result[rule[r]] = disjunction(minVal, currVal)\n",
        "    \n",
        "    return result\n",
        "  \n",
        "  def defuzzification(self, inferenced: dict, membership: dict) -> float:\n",
        "    upper = 0\n",
        "    lower = 0\n",
        "\n",
        "    for i in membership:\n",
        "      upper = upper + (inferenced[i] * membership[i])\n",
        "      lower = lower + inferenced[i]\n",
        "\n",
        "    try:\n",
        "      return upper/lower\n",
        "    except ZeroDivisionError:\n",
        "      return 0\n",
        "\n",
        "  def computeSugeno(self, x: int, membership: list, rule: dict, fairness: dict) -> float:\n",
        "    fuzzificated = self.fuzzification(x, membership)\n",
        "    inferenced = self.inference(fuzzificated, rule)\n",
        "    return self.defuzzification(inferenced, fairness)"
      ],
      "metadata": {
        "id": "VQpot5MrS7Gk"
      },
      "execution_count": null,
      "outputs": []
    },
    {
      "cell_type": "code",
      "source": [
        "class FuzzyRule(object):\n",
        "  # Initialisation \n",
        "  def __init__(self):\n",
        "    self.rule = {}\n",
        "\n",
        "  def createRule(self, pair: tuple, value: str):\n",
        "    self.rule[pair] = value"
      ],
      "metadata": {
        "id": "hjUi4Zl1JxVp"
      },
      "execution_count": null,
      "outputs": []
    },
    {
      "cell_type": "code",
      "execution_count": null,
      "metadata": {
        "id": "u5wwbS4qca6Y"
      },
      "outputs": [],
      "source": [
        "def main():\n",
        "  start = time.time()\n",
        "  print(\"Hello, mom!\")\n",
        "\n",
        "  # Constant\n",
        "  url = \"https://raw.githubusercontent.com/mrandika/CII2M3_INTRO-AI_Reasoning/main/bengkel.xlsx\"\n",
        "  system = FuzzySystem()\n",
        "  fairness = {\n",
        "      'YES': 100,\n",
        "      'CONSIDERED': 70,\n",
        "      'NO': 50\n",
        "  }\n",
        "\n",
        "  # Dataset\n",
        "  dataset = loadDataset(url)\n",
        "  dataId = dataset['id']\n",
        "  dataInput = dataset[['servis', 'harga']]\n",
        "\n",
        "  # Input 1 (Quality) Membership\n",
        "  quality = FuzzyInput()\n",
        "  quality.createMembership('baik', quality.point(50,80,100,100))\n",
        "  quality.createMembership('sedang', quality.point(20,30,70,80))\n",
        "  quality.createMembership('buruk', quality.point(0,0,20,50))\n",
        "\n",
        "  # Input 2 (Price) Membership\n",
        "  price = FuzzyInput()\n",
        "  price.createMembership('mahal', price.point(5,8,10,10))\n",
        "  price.createMembership('sedang', price.point(3,5,6,8))\n",
        "  price.createMembership('murah', price.point(0,0,3,5))\n",
        "\n",
        "  # Plotted Membership\n",
        "  system.plotMembership(quality.membership)\n",
        "  system.plotMembership(price.membership)\n",
        "\n",
        "  # Rules\n",
        "  rules = FuzzyRule()\n",
        "  rules.createRule(('baik', 'mahal'), 'CONSIDERED')\n",
        "  rules.createRule(('baik', 'sedang'), 'YES')\n",
        "  rules.createRule(('baik', 'murah'), 'YES')\n",
        "\n",
        "  rules.createRule(('sedang', 'mahal'), 'CONSIDERED')\n",
        "  rules.createRule(('sedang', 'sedang'), 'CONSIDERED')\n",
        "  rules.createRule(('sedang', 'murah'), 'YES')\n",
        "\n",
        "  rules.createRule(('buruk', 'mahal'), 'NO')\n",
        "  rules.createRule(('buruk', 'sedang'), 'NO')\n",
        "  rules.createRule(('buruk', 'murah'), 'CONSIDERED')\n",
        "\n",
        "  print(\"\\nFuzzy Rules\")\n",
        "  print(\"{:<10} {:<10} {:<10}\".format('Servis','Harga','Score'))\n",
        "  for k, v in rules.rule.items():\n",
        "        print(\"{:<10} {:<10} {:<10}\".format(k[0], k[1], v))\n",
        "\n",
        "  # Fairness Plot\n",
        "  system.plotFairness(fairness)\n",
        "\n",
        "  # Fuzzification->Inference->Defuzzification\n",
        "  defuzzifiedScore = [system.computeSugeno(i, [quality.membership, price.membership], rules.rule, fairness) for i in dataInput.values]\n",
        "\n",
        "  # Selecting\n",
        "  shops = [FuzzyOutput(i+1, defuzzifiedScore[i]) for i in range(len(defuzzifiedScore))]\n",
        "  selectedShops = sorted(shops, key=lambda shop: shop.score, reverse=True)\n",
        "  \n",
        "  for shop in shops:\n",
        "    print(f\"ID:\", shop.id, \"Score:\", shop.score)\n",
        "\n",
        "  # Convert to DataFrame\n",
        "  print(\"\\nTop 10 shops: \")\n",
        "  shopDataFrame = pd.DataFrame([(shop.id, shop.score) for shop in selectedShops[0:10]], columns=['id', 'score'])\n",
        "  print(shopDataFrame)\n",
        "  shopDataFrame.to_excel('worth_service.xlsx')\n",
        "\n",
        "  # # ⚠️ WARNING: Disable this if you're running locally (not on Google Colab)\n",
        "  # files.download('worth_service.xlsx')\n",
        "\n",
        "  print(f\"\\nElapsed: \", time.time() - start)"
      ]
    },
    {
      "cell_type": "code",
      "source": [
        "if __name__ == \"__main__\":\n",
        "  main()"
      ],
      "metadata": {
        "colab": {
          "base_uri": "https://localhost:8080/",
          "height": 1000
        },
        "id": "RgDkLxcbci1i",
        "outputId": "69b25359-30fb-402b-ca80-7742ec40a648"
      },
      "execution_count": null,
      "outputs": [
        {
          "output_type": "stream",
          "name": "stdout",
          "text": [
            "Hello, mom!\n"
          ]
        },
        {
          "output_type": "display_data",
          "data": {
            "text/plain": [
              "<Figure size 432x288 with 1 Axes>"
            ],
            "image/png": "[encoded data removed]"
          },
          "metadata": {
            "needs_background": "light"
          }
        },
        {
          "output_type": "display_data",
          "data": {
            "text/plain": [
              "<Figure size 432x288 with 1 Axes>"
            ],
            "image/png": "[encoded data removed]"
          },
          "metadata": {
            "needs_background": "light"
          }
        },
        {
          "output_type": "stream",
          "name": "stdout",
          "text": [
            "\n",
            "Fuzzy Rules\n",
            "Servis     Harga      Score     \n",
            "baik       mahal      CONSIDERED\n",
            "baik       sedang     YES       \n",
            "baik       murah      YES       \n",
            "sedang     mahal      CONSIDERED\n",
            "sedang     sedang     CONSIDERED\n",
            "sedang     murah      YES       \n",
            "buruk      mahal      NO        \n",
            "buruk      sedang     NO        \n",
            "buruk      murah      CONSIDERED\n"
          ]
        },
        {
          "output_type": "display_data",
          "data": {
            "text/plain": [
              "<Figure size 432x288 with 1 Axes>"
            ],
            "image/png": "[encoded data removed]"
          },
          "metadata": {
            "needs_background": "light"
          }
        },
        {
          "output_type": "stream",
          "name": "stdout",
          "text": [
            "ID: 1 Score: 78.57142857142857\n",
            "ID: 2 Score: 100.0\n",
            "ID: 3 Score: 100.0\n",
            "ID: 4 Score: 85.0\n",
            "ID: 5 Score: 60.0\n",
            "ID: 6 Score: 0\n",
            "ID: 7 Score: 70.0\n",
            "ID: 8 Score: 0\n",
            "ID: 9 Score: 95.71428571428571\n",
            "ID: 10 Score: 63.636363636363626\n",
            "ID: 11 Score: 50.0\n",
            "ID: 12 Score: 62.49999999999999\n",
            "ID: 13 Score: 100.0\n",
            "ID: 14 Score: 62.24489795918367\n",
            "ID: 15 Score: 94.70588235294117\n",
            "ID: 16 Score: 92.5\n",
            "ID: 17 Score: 100.0\n",
            "ID: 18 Score: 50.0\n",
            "ID: 19 Score: 93.6842105263158\n",
            "ID: 20 Score: 0\n",
            "ID: 21 Score: 98.125\n",
            "ID: 22 Score: 70.0\n",
            "ID: 23 Score: 60.0\n",
            "ID: 24 Score: 0\n",
            "ID: 25 Score: 0\n",
            "ID: 26 Score: 70.0\n",
            "ID: 27 Score: 70.0\n",
            "ID: 28 Score: 95.0\n",
            "ID: 29 Score: 50.0\n",
            "ID: 30 Score: 50.0\n",
            "ID: 31 Score: 70.0\n",
            "ID: 32 Score: 93.6842105263158\n",
            "ID: 33 Score: 62.76595744680851\n",
            "ID: 34 Score: 100.0\n",
            "ID: 35 Score: 70.0\n",
            "ID: 36 Score: 62.5\n",
            "ID: 37 Score: 73.33333333333333\n",
            "ID: 38 Score: 70.0\n",
            "ID: 39 Score: 72.72727272727272\n",
            "ID: 40 Score: 50.0\n",
            "ID: 41 Score: 89.14893617021276\n",
            "ID: 42 Score: 0\n",
            "ID: 43 Score: 89.56521739130436\n",
            "ID: 44 Score: 100.0\n",
            "ID: 45 Score: 50.0\n",
            "ID: 46 Score: 91.42857142857143\n",
            "ID: 47 Score: 72.8125\n",
            "ID: 48 Score: 85.0\n",
            "ID: 49 Score: 70.0\n",
            "ID: 50 Score: 65.78947368421052\n",
            "ID: 51 Score: 0\n",
            "ID: 52 Score: 100.0\n",
            "ID: 53 Score: 51.875\n",
            "ID: 54 Score: 0\n",
            "ID: 55 Score: 70.0\n",
            "ID: 56 Score: 99.03225806451611\n",
            "ID: 57 Score: 79.47368421052633\n",
            "ID: 58 Score: 88.3673469387755\n",
            "ID: 59 Score: 73.33333333333333\n",
            "ID: 60 Score: 92.3076923076923\n",
            "ID: 61 Score: 77.63157894736842\n",
            "ID: 62 Score: 60.25641025641026\n",
            "ID: 63 Score: 82.85714285714286\n",
            "ID: 64 Score: 90.0\n",
            "ID: 65 Score: 50.0\n",
            "ID: 66 Score: 50.0\n",
            "ID: 67 Score: 73.33333333333333\n",
            "ID: 68 Score: 76.92307692307692\n",
            "ID: 69 Score: 0\n",
            "ID: 70 Score: 70.0\n",
            "ID: 71 Score: 91.95121951219511\n",
            "ID: 72 Score: 58.57142857142858\n",
            "ID: 73 Score: 0\n",
            "ID: 74 Score: 85.0\n",
            "ID: 75 Score: 100.0\n",
            "ID: 76 Score: 67.14285714285714\n",
            "ID: 77 Score: 0\n",
            "ID: 78 Score: 70.0\n",
            "ID: 79 Score: 70.0\n",
            "ID: 80 Score: 0\n",
            "ID: 81 Score: 0\n",
            "ID: 82 Score: 60.0\n",
            "ID: 83 Score: 70.0\n",
            "ID: 84 Score: 70.0\n",
            "ID: 85 Score: 60.0\n",
            "ID: 86 Score: 62.0\n",
            "ID: 87 Score: 85.0\n",
            "ID: 88 Score: 50.0\n",
            "ID: 89 Score: 98.125\n",
            "ID: 90 Score: 70.0\n",
            "ID: 91 Score: 100.0\n",
            "ID: 92 Score: 100.0\n",
            "ID: 93 Score: 65.0\n",
            "ID: 94 Score: 70.0\n",
            "ID: 95 Score: 70.0\n",
            "ID: 96 Score: 88.0\n",
            "ID: 97 Score: 81.25\n",
            "ID: 98 Score: 0\n",
            "ID: 99 Score: 50.0\n",
            "ID: 100 Score: 50.0\n",
            "64.87868903867205\n",
            "\n",
            "Top 10 shops: \n",
            "   id  score\n",
            "0   2  100.0\n",
            "1   3  100.0\n",
            "2  13  100.0\n",
            "3  17  100.0\n",
            "4  34  100.0\n",
            "5  44  100.0\n",
            "6  52  100.0\n",
            "7  75  100.0\n",
            "8  91  100.0\n",
            "9  92  100.0\n",
            "\n",
            "Elapsed:  1.7895889282226562\n"
          ]
        }
      ]
    }
  ]
}